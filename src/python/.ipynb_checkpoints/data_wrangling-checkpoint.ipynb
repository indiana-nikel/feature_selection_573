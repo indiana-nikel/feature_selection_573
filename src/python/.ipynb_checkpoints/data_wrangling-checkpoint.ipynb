{
 "cells": [
  {
   "cell_type": "code",
   "execution_count": 55,
   "metadata": {},
   "outputs": [],
   "source": [
    "import pandas as pd\n",
    "import numpy as np\n",
    "from sklearn.preprocessing import Imputer"
   ]
  },
  {
   "cell_type": "code",
   "execution_count": 56,
   "metadata": {
    "collapsed": true
   },
   "outputs": [],
   "source": [
    "df = pd.read_csv(\"../../data/raw/raw.csv\")"
   ]
  },
  {
   "cell_type": "code",
   "execution_count": 57,
   "metadata": {},
   "outputs": [
    {
     "name": "stdout",
     "output_type": "stream",
     "text": [
      "Rows with missing entries:\n",
      "[  0   1   3   4   5   6   7   9  10  11  12  13  14  15  16  17  18  19\n",
      "  20  21  22  23  24  25  26  27  28  30  31  32  33  34  35  36  37  38\n",
      "  39  40  41  42  43  44  45  46  47  48  49  50  51  52  53  54  55  57\n",
      "  58  59  60  61  62  63  64  65  66  67  68  69  70  72  73  74  75  76\n",
      "  77  78  79  80  81  82  83  84  87  90  91  92  94  95  96  97  98 100\n",
      " 101 102 103 104 105 106 107 108 109 110 111 113 114 115 116 117 118 119\n",
      " 121 122 123 124 125 126 127 128 129 130 131 132 133 134 135 136 137 139\n",
      " 140 141 142 143 144 145 146 147 148 149 150 151 152 153 154 155 156 157\n",
      " 159 160 161 162 163 164 165 166 167 168 169 171 172 173 174 176 177 178\n",
      " 179 180 181 182 183 184 185 186 190 191 192 193 194 195 196 197 199 200\n",
      " 201 203 204 205 206 210 211 212 214 215 216 217 218 219 220 221 222 223\n",
      " 224 225 226 227 228 229 230 231 232 233 234 236 238 240 241 242 243 244\n",
      " 245 246 247 248 249 250 251 253 255 257 258 259 261 262 263 264 265 266\n",
      " 267 268 269 270 271 272 273 274 275 276 277 278 279 280 281 282 283 284\n",
      " 286 287 288 289 290 292 293 294 298 299 300 301 302 303 304 305 306 307\n",
      " 308 309 310 311 312 313 314 315 316 317 318 320 321 325 326 327 329 330\n",
      " 331 332 333 335 336 337 338 339 340 341 342 343 344 345 346 347 348 349\n",
      " 350 351 353 355 358 360 361 362 363 364 365 369 371 372 373 374 375 377\n",
      " 378 379 381 382 383 384 385 386 387 390 391 392 393 394 396 397 399 400\n",
      " 401 402 405 406 407 408 409 411 412 413 414 415 416 417 418 419 420 421\n",
      " 422 423 425 427 428 429 431 432 433 434 435 436 437 438 439 441 442 443\n",
      " 444 445 446 447 448 451]\n",
      "\n",
      "\n",
      "Columns with missing entries:\n",
      "[11 12 13 14 15]\n"
     ]
    }
   ],
   "source": [
    "rows = []\n",
    "cols = []\n",
    "location = []\n",
    "\n",
    "for i in range(0, len(df.iloc[:,0])):\n",
    "    for j in range(0, len(df.iloc[0,:])):\n",
    "        if df.iloc[i,j] == \"?\":\n",
    "            rows.append(i)\n",
    "            cols.append(j)\n",
    "            location.append([i,j])\n",
    "            \n",
    "#df.replace(\"?\", np.NaN)\n",
    "\n",
    "np_rows = np.array(rows)\n",
    "np_cols = np.array(cols)\n",
    "\n",
    "print(\"Rows with missing entries:\")\n",
    "print(np.unique(np_rows))\n",
    "print(\"\\n\")\n",
    "print(\"Columns with missing entries:\")\n",
    "print(np.unique(np_cols))\n"
   ]
  },
  {
   "cell_type": "code",
   "execution_count": 58,
   "metadata": {},
   "outputs": [
    {
     "name": "stdout",
     "output_type": "stream",
     "text": [
      "Number of missing entries: 408\n",
      "\n",
      "\n",
      "Number of missing entries @ column 11: 8\n",
      "Percent of missing entries @ column 11: 1.7699115044247788\n",
      "\n",
      "\n",
      "Number of missing entries @ column 12: 22\n",
      "Percent of missing entries @ column 12: 4.867256637168142\n",
      "\n",
      "\n",
      "Number of missing entries @ column 13: 1\n",
      "Percent of missing entries @ column 13: 0.22123893805309736\n",
      "\n",
      "\n",
      "Number of missing entries @ column 14: 376\n",
      "Percent of missing entries @ column 14: 83.1858407079646\n",
      "\n",
      "\n",
      "Number of missing entries @ column 15: 1\n",
      "Percent of missing entries @ column 15: 0.22123893805309736\n"
     ]
    }
   ],
   "source": [
    "loc_11 = []\n",
    "loc_12 = []\n",
    "loc_13 = []\n",
    "loc_14 = []\n",
    "loc_15 = []\n",
    "\n",
    "for k in range(0, len(location)):\n",
    "    if location[k][1] == 11:\n",
    "        loc_11.append(location[k])\n",
    "    elif location[k][1] == 12:\n",
    "        loc_12.append(location[k])\n",
    "    elif location[k][1] == 13:\n",
    "        loc_13.append(location[k])\n",
    "    elif location[k][1] == 14:\n",
    "        loc_14.append(location[k])\n",
    "    elif location[k][1] == 15:\n",
    "        loc_15.append(location[k])\n",
    "        \n",
    "print(\"Number of missing entries:\", len(location))\n",
    "print(\"\\n\")\n",
    "        \n",
    "print(\"Number of missing entries @ column 11:\", len(loc_11))\n",
    "print(\"Percent of missing entries @ column 11:\", len(loc_11)/len(df.iloc[0:])*100)\n",
    "print(\"\\n\")\n",
    "\n",
    "print(\"Number of missing entries @ column 12:\", len(loc_12))\n",
    "print(\"Percent of missing entries @ column 12:\", len(loc_12)/len(df.iloc[0:])*100)\n",
    "print(\"\\n\")\n",
    "\n",
    "print(\"Number of missing entries @ column 13:\", len(loc_13))\n",
    "print(\"Percent of missing entries @ column 13:\", len(loc_13)/len(df.iloc[0:])*100)\n",
    "print(\"\\n\")\n",
    "\n",
    "print(\"Number of missing entries @ column 14:\", len(loc_14))\n",
    "print(\"Percent of missing entries @ column 14:\", len(loc_14)/len(df.iloc[0:])*100)\n",
    "print(\"\\n\")\n",
    "\n",
    "print(\"Number of missing entries @ column 15:\", len(loc_15))\n",
    "print(\"Percent of missing entries @ column 15:\", len(loc_15)/len(df.iloc[0:])*100)\n"
   ]
  },
  {
   "cell_type": "code",
   "execution_count": 59,
   "metadata": {
    "scrolled": true
   },
   "outputs": [
    {
     "name": "stdout",
     "output_type": "stream",
     "text": [
      "T\n",
      "P\n",
      "QRST\n",
      "J\n",
      "heart_rate\n"
     ]
    }
   ],
   "source": [
    "colnames = list(df.columns.values)\n",
    "\n",
    "print(colnames[11])\n",
    "print(colnames[12])\n",
    "print(colnames[13])\n",
    "print(colnames[14])\n",
    "print(colnames[15])"
   ]
  },
  {
   "cell_type": "code",
   "execution_count": 76,
   "metadata": {},
   "outputs": [],
   "source": [
    "df = df.replace('?', np.nan)\n",
    "imp = Imputer().fit(df)\n",
    "imputed = pd.DataFrame(imp.transform(df))\n",
    "imputed.columns = colnames\n",
    "df_wrangled = imputed.drop([\"J\", \"Unnamed: 0\"], axis=1)"
   ]
  },
  {
   "cell_type": "code",
   "execution_count": 78,
   "metadata": {},
   "outputs": [],
   "source": [
    "df_wrangled.to_csv(\"wrangled.csv\")"
   ]
  },
  {
   "cell_type": "code",
   "execution_count": null,
   "metadata": {
    "collapsed": true
   },
   "outputs": [],
   "source": []
  }
 ],
 "metadata": {
  "kernelspec": {
   "display_name": "Python 3",
   "language": "python",
   "name": "python3"
  },
  "language_info": {
   "codemirror_mode": {
    "name": "ipython",
    "version": 3
   },
   "file_extension": ".py",
   "mimetype": "text/x-python",
   "name": "python",
   "nbconvert_exporter": "python",
   "pygments_lexer": "ipython3",
   "version": "3.6.3"
  }
 },
 "nbformat": 4,
 "nbformat_minor": 2
}
