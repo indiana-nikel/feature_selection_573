{
 "cells": [
  {
   "cell_type": "code",
   "execution_count": 1,
   "metadata": {
    "collapsed": true
   },
   "outputs": [],
   "source": [
    "import pandas as pd\n",
    "import numpy as np"
   ]
  },
  {
   "cell_type": "code",
   "execution_count": 2,
   "metadata": {
    "collapsed": true
   },
   "outputs": [],
   "source": [
    "raw_data = pd.read_csv(\"http://archive.ics.uci.edu/ml/machine-learning-databases/arrhythmia/arrhythmia.data\", header=None)"
   ]
  },
  {
   "cell_type": "code",
   "execution_count": 3,
   "metadata": {
    "collapsed": true
   },
   "outputs": [],
   "source": [
    "attributes = [\"age\", \"sex\", \"height\", \"weight\", \n",
    "              \"QRS_duration\", \"P-R_interval\" , \"Q-T_interval\", \"T_interval\", \"P_interval\", \n",
    "              \"QRS\", \"T\", \"P\", \"QRST\", \"J\", \"heart_rate\"]\n",
    "\n",
    "channels = [\"DI\", \"DII\", \"DIII\", \"AVR\", \"AVL\", \"AVF\",\n",
    "            \"V1\", \"V2\", \"V3\", \"V4\", \"V5\", \"V6\"]\n",
    "\n",
    "channel_subs1 = [\"Q_width\", \"R_width\", \"S_width\", \"R1_width\", \"S1_width\", \n",
    "                 \"ragged_R\", \"dip_der_R\", \"ragged_P\", \"dip_der_P\", \"ragged_T\", \"dip_der_T\"]\n",
    "\n",
    "channel_subs2 = [\"JJ_amp\", \"Q_amp\", \"R_amp\", \"S_amp\", \"R1_amp\", \n",
    "                 \"S1_amp\", \"R1_amp\", \"P_amp\", \"T_amp\", \"QRSA\", \"QRSTA\"]\n",
    "\n",
    "classifications = [\"class\"]"
   ]
  },
  {
   "cell_type": "code",
   "execution_count": 4,
   "metadata": {
    "collapsed": true
   },
   "outputs": [],
   "source": [
    "labels = []\n",
    "\n",
    "for i in range(0, len(channels)):\n",
    "    for j in range(0, len(channel_subs1)):\n",
    "        labels.append(channels[i] + \"_\" +channel_subs1[j])\n",
    "        \n",
    "for i in range(0, len(channels)):\n",
    "    for j in range(0, len(channel_subs2)):\n",
    "        labels.append(channels[i] + \"_\" +channel_subs2[j])\n",
    "    \n",
    "header_data = attributes + labels + classifications"
   ]
  },
  {
   "cell_type": "code",
   "execution_count": 5,
   "metadata": {
    "collapsed": true
   },
   "outputs": [],
   "source": [
    "raw_data.columns = header_data"
   ]
  },
  {
   "cell_type": "code",
   "execution_count": 6,
   "metadata": {
    "collapsed": true
   },
   "outputs": [],
   "source": [
    "raw_data.to_csv(\"raw.csv\")"
   ]
  },
  {
   "cell_type": "code",
   "execution_count": null,
   "metadata": {
    "collapsed": true
   },
   "outputs": [],
   "source": []
  }
 ],
 "metadata": {
  "kernelspec": {
   "display_name": "Python 3",
   "language": "python",
   "name": "python3"
  },
  "language_info": {
   "codemirror_mode": {
    "name": "ipython",
    "version": 3
   },
   "file_extension": ".py",
   "mimetype": "text/x-python",
   "name": "python",
   "nbconvert_exporter": "python",
   "pygments_lexer": "ipython3",
   "version": "3.6.3"
  }
 },
 "nbformat": 4,
 "nbformat_minor": 2
}
